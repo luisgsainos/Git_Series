{
 "cells": [
  {
   "cell_type": "code",
   "execution_count": null,
   "id": "b896ba23",
   "metadata": {},
   "outputs": [],
   "source": [
    "# This is a new file and our first commit\n",
    "\n",
    "#This is our code\n",
    "print(\"I love git\")"
   ]
  }
 ],
 "metadata": {
  "language_info": {
   "name": "python"
  }
 },
 "nbformat": 4,
 "nbformat_minor": 5
}
